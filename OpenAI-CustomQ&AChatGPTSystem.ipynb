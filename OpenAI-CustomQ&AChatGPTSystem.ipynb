{
 "cells": [
  {
   "cell_type": "markdown",
   "id": "c949b928",
   "metadata": {},
   "source": [
    "# Python Package Installation"
   ]
  },
  {
   "cell_type": "code",
   "execution_count": null,
   "id": "6143a3d5",
   "metadata": {},
   "outputs": [],
   "source": [
    "!pip install openai\n",
    "!pip install openai-cli\n",
    "!pip install transformers\n",
    "!pip install pyarrow\n",
    "!pip install pinecone-client\n",
    "!pip install tqdm"
   ]
  },
  {
   "cell_type": "markdown",
   "id": "cfed6101",
   "metadata": {},
   "source": [
    "# Import the Python Libraries"
   ]
  },
  {
   "cell_type": "code",
   "execution_count": 16,
   "id": "084b9ecb",
   "metadata": {},
   "outputs": [],
   "source": [
    "import openai\n",
    "from openai.embeddings_utils import get_embedding\n",
    "\n",
    "import pandas as pd\n",
    "import numpy as np\n",
    "import pyarrow\n",
    "import pinecone\n",
    "\n",
    "from transformers import GPT2TokenizerFast\n",
    "\n",
    "from sys import getsizeof\n",
    "from tqdm.auto import tqdm\n",
    "import json\n",
    "import time\n",
    "\n"
   ]
  },
  {
   "cell_type": "markdown",
   "id": "c0acdee0",
   "metadata": {},
   "source": [
    "# Dataset Preparation\n",
    "\n",
    "* Dataset is taken from Kaggle https://www.kaggle.com/datasets/jithinanievarghese/drugs-side-effects-and-medical-condition?resource=download\n",
    "* Took only 3 columns out of this dataset (drug_name, medical_condition and side_effects)\n",
    "* Renamed the side_effects column as the context column\n",
    "* Added the question column based on drug_name and medical_condition\n",
    "* Combined all the text data into text column with keys topic, question and answer\n",
    "* Used the transformer pre-trained gp2 tokenizer to get the number of tokens (feature vectors) for the given text in the text column"
   ]
  },
  {
   "cell_type": "code",
   "execution_count": 66,
   "id": "e768ff4b",
   "metadata": {},
   "outputs": [
    {
     "name": "stderr",
     "output_type": "stream",
     "text": [
      "Token indices sequence length is longer than the specified maximum sequence length for this model (1104 > 1024). Running this sequence through the model will result in indexing errors\n"
     ]
    },
    {
     "data": {
      "text/html": [
       "<div>\n",
       "<style scoped>\n",
       "    .dataframe tbody tr th:only-of-type {\n",
       "        vertical-align: middle;\n",
       "    }\n",
       "\n",
       "    .dataframe tbody tr th {\n",
       "        vertical-align: top;\n",
       "    }\n",
       "\n",
       "    .dataframe thead th {\n",
       "        text-align: right;\n",
       "    }\n",
       "</style>\n",
       "<table border=\"1\" class=\"dataframe\">\n",
       "  <thead>\n",
       "    <tr style=\"text-align: right;\">\n",
       "      <th></th>\n",
       "      <th>drug_name</th>\n",
       "      <th>medical_condition</th>\n",
       "      <th>questions</th>\n",
       "      <th>context</th>\n",
       "      <th>text</th>\n",
       "      <th>n_tokens</th>\n",
       "    </tr>\n",
       "  </thead>\n",
       "  <tbody>\n",
       "    <tr>\n",
       "      <th>0</th>\n",
       "      <td>doxycycline</td>\n",
       "      <td>Acne</td>\n",
       "      <td>what is the side effect of taking drug doxycyc...</td>\n",
       "      <td>(hives, difficult breathing, swelling in your ...</td>\n",
       "      <td>Topic: doxycycline - Acne; Question: Acne - wh...</td>\n",
       "      <td>339</td>\n",
       "    </tr>\n",
       "    <tr>\n",
       "      <th>1</th>\n",
       "      <td>spironolactone</td>\n",
       "      <td>Acne</td>\n",
       "      <td>what is the side effect of taking drug spirono...</td>\n",
       "      <td>hives ; difficulty breathing; swelling of your...</td>\n",
       "      <td>Topic: spironolactone - Acne; Question: Acne -...</td>\n",
       "      <td>166</td>\n",
       "    </tr>\n",
       "    <tr>\n",
       "      <th>2</th>\n",
       "      <td>minocycline</td>\n",
       "      <td>Acne</td>\n",
       "      <td>what is the side effect of taking drug minocyc...</td>\n",
       "      <td>skin rash, fever, swollen glands, flu-like sym...</td>\n",
       "      <td>Topic: minocycline - Acne; Question: Acne - wh...</td>\n",
       "      <td>333</td>\n",
       "    </tr>\n",
       "    <tr>\n",
       "      <th>3</th>\n",
       "      <td>Accutane</td>\n",
       "      <td>Acne</td>\n",
       "      <td>what is the side effect of taking drug Accutan...</td>\n",
       "      <td>problems with your vision or hearing; muscle o...</td>\n",
       "      <td>Topic: Accutane - Acne; Question: Acne - what ...</td>\n",
       "      <td>274</td>\n",
       "    </tr>\n",
       "    <tr>\n",
       "      <th>4</th>\n",
       "      <td>clindamycin</td>\n",
       "      <td>Acne</td>\n",
       "      <td>what is the side effect of taking drug clindam...</td>\n",
       "      <td>hives ; difficult breathing; swelling of your ...</td>\n",
       "      <td>Topic: clindamycin - Acne; Question: Acne - wh...</td>\n",
       "      <td>151</td>\n",
       "    </tr>\n",
       "  </tbody>\n",
       "</table>\n",
       "</div>"
      ],
      "text/plain": [
       "        drug_name medical_condition  \\\n",
       "0     doxycycline              Acne   \n",
       "1  spironolactone              Acne   \n",
       "2     minocycline              Acne   \n",
       "3        Accutane              Acne   \n",
       "4     clindamycin              Acne   \n",
       "\n",
       "                                           questions  \\\n",
       "0  what is the side effect of taking drug doxycyc...   \n",
       "1  what is the side effect of taking drug spirono...   \n",
       "2  what is the side effect of taking drug minocyc...   \n",
       "3  what is the side effect of taking drug Accutan...   \n",
       "4  what is the side effect of taking drug clindam...   \n",
       "\n",
       "                                             context  \\\n",
       "0  (hives, difficult breathing, swelling in your ...   \n",
       "1  hives ; difficulty breathing; swelling of your...   \n",
       "2  skin rash, fever, swollen glands, flu-like sym...   \n",
       "3  problems with your vision or hearing; muscle o...   \n",
       "4  hives ; difficult breathing; swelling of your ...   \n",
       "\n",
       "                                                text  n_tokens  \n",
       "0  Topic: doxycycline - Acne; Question: Acne - wh...       339  \n",
       "1  Topic: spironolactone - Acne; Question: Acne -...       166  \n",
       "2  Topic: minocycline - Acne; Question: Acne - wh...       333  \n",
       "3  Topic: Accutane - Acne; Question: Acne - what ...       274  \n",
       "4  Topic: clindamycin - Acne; Question: Acne - wh...       151  "
      ]
     },
     "execution_count": 66,
     "metadata": {},
     "output_type": "execute_result"
    }
   ],
   "source": [
    "tokenizer = GPT2TokenizerFast.from_pretrained(\"gpt2\")\n",
    "df = pd.read_csv('./drug-side-effects.csv')\n",
    "df = df[[\"drug_name\",\"medical_condition\", \"side_effects\"]]\n",
    "df = df.dropna()\n",
    "df = df.assign(questions=lambda x: \"what is the side effect of taking drug \" + x.drug_name + \"for the \" + x.medical_condition + \" medical condition.\")\n",
    "questions = df.pop('questions')\n",
    "df.insert(2, 'questions', questions)\n",
    "df.rename(columns = {'side_effects':'context'}, inplace = True)\n",
    "df['text'] = \"Topic: \" + df.drug_name + \" - \" + df.medical_condition + \"; Question: \" + df.medical_condition + \" - \" + df.questions + \"; Answer: \" + df.context\n",
    "df['n_tokens'] = df.text.apply(lambda x: len(tokenizer.encode(x)))\n",
    "\n",
    "df.head()"
   ]
  },
  {
   "cell_type": "markdown",
   "id": "c9410428",
   "metadata": {},
   "source": [
    "* Checking the histogram for the distribution of tokens in the dataset"
   ]
  },
  {
   "cell_type": "code",
   "execution_count": 67,
   "id": "9be75e80",
   "metadata": {},
   "outputs": [
    {
     "data": {
      "text/plain": [
       "<AxesSubplot:>"
      ]
     },
     "execution_count": 67,
     "metadata": {},
     "output_type": "execute_result"
    },
    {
     "data": {
      "image/png": "[encoded data removed]",
      "text/plain": [
       "<Figure size 640x480 with 1 Axes>"
      ]
     },
     "metadata": {},
     "output_type": "display_data"
    }
   ],
   "source": [
    "df.n_tokens.hist(bins=100, log=True)"
   ]
  },
  {
   "cell_type": "markdown",
   "id": "519bcd74",
   "metadata": {},
   "source": [
    "* Trim the dataset , remove data above 2000 tokens"
   ]
  },
  {
   "cell_type": "code",
   "execution_count": 68,
   "id": "d596150a",
   "metadata": {},
   "outputs": [],
   "source": [
    "df = df[df.n_tokens < 2000]"
   ]
  },
  {
   "cell_type": "markdown",
   "id": "30e42fed",
   "metadata": {},
   "source": [
    "# Get embedding vector list from OpenAI Embedding Model\n",
    "* Model selected is \"text-search-curie-doc-001\"\n",
    "* Free tier API rate limit is 60 per minute, so for every 50 rows in the dataframe give a sleep interval of 1 minute.\n",
    "* It took 3 hrs and $14 in free tier expense to get the vector list for each row.\n",
    "* Finally stored the vector list in Parquet format. "
   ]
  },
  {
   "cell_type": "code",
   "execution_count": null,
   "id": "fc719309",
   "metadata": {},
   "outputs": [],
   "source": [
    "openai.api_key = '<>'\n",
    "model = 'curie'\n",
    "count = 0\n",
    "embed_array = []\n",
    "for index, row in df.iterrows():\n",
    "    count += 1\n",
    "    embed_array.append(get_embedding(row['text'], engine=f'text-search-{model}-doc-001'))\n",
    "    if count == 50:\n",
    "        time.sleep(62)\n",
    "        count = 0 \n",
    "    \n",
    "df.insert(6, \"embeddings\", embed_array, True)       \n",
    "df.to_parquet('/Users/rajthith/openai/curie_embeddings.parquet')\n",
    "df.head()"
   ]
  },
  {
   "cell_type": "code",
   "execution_count": 77,
   "id": "0cdc42cd",
   "metadata": {},
   "outputs": [
    {
     "data": {
      "text/html": [
       "<div>\n",
       "<style scoped>\n",
       "    .dataframe tbody tr th:only-of-type {\n",
       "        vertical-align: middle;\n",
       "    }\n",
       "\n",
       "    .dataframe tbody tr th {\n",
       "        vertical-align: top;\n",
       "    }\n",
       "\n",
       "    .dataframe thead th {\n",
       "        text-align: right;\n",
       "    }\n",
       "</style>\n",
       "<table border=\"1\" class=\"dataframe\">\n",
       "  <thead>\n",
       "    <tr style=\"text-align: right;\">\n",
       "      <th></th>\n",
       "      <th>drug_name</th>\n",
       "      <th>medical_condition</th>\n",
       "      <th>questions</th>\n",
       "      <th>context</th>\n",
       "      <th>text</th>\n",
       "      <th>n_tokens</th>\n",
       "      <th>embeddings</th>\n",
       "    </tr>\n",
       "  </thead>\n",
       "  <tbody>\n",
       "    <tr>\n",
       "      <th>0</th>\n",
       "      <td>doxycycline</td>\n",
       "      <td>Acne</td>\n",
       "      <td>what is the side effect of taking drug doxycyc...</td>\n",
       "      <td>(hives, difficult breathing, swelling in your ...</td>\n",
       "      <td>Topic: doxycycline - Acne; Question: Acne - wh...</td>\n",
       "      <td>339</td>\n",
       "      <td>[-0.01912190206348896, 0.009189479984343052, 0...</td>\n",
       "    </tr>\n",
       "    <tr>\n",
       "      <th>1</th>\n",
       "      <td>spironolactone</td>\n",
       "      <td>Acne</td>\n",
       "      <td>what is the side effect of taking drug spirono...</td>\n",
       "      <td>hives ; difficulty breathing; swelling of your...</td>\n",
       "      <td>Topic: spironolactone - Acne; Question: Acne -...</td>\n",
       "      <td>166</td>\n",
       "      <td>[-0.007099879439920187, 0.008844921365380287, ...</td>\n",
       "    </tr>\n",
       "    <tr>\n",
       "      <th>2</th>\n",
       "      <td>minocycline</td>\n",
       "      <td>Acne</td>\n",
       "      <td>what is the side effect of taking drug minocyc...</td>\n",
       "      <td>skin rash, fever, swollen glands, flu-like sym...</td>\n",
       "      <td>Topic: minocycline - Acne; Question: Acne - wh...</td>\n",
       "      <td>333</td>\n",
       "      <td>[-0.01001330092549324, -0.013359921053051949, ...</td>\n",
       "    </tr>\n",
       "    <tr>\n",
       "      <th>3</th>\n",
       "      <td>Accutane</td>\n",
       "      <td>Acne</td>\n",
       "      <td>what is the side effect of taking drug Accutan...</td>\n",
       "      <td>problems with your vision or hearing; muscle o...</td>\n",
       "      <td>Topic: Accutane - Acne; Question: Acne - what ...</td>\n",
       "      <td>274</td>\n",
       "      <td>[-0.01733020693063736, -0.01158748846501112, 0...</td>\n",
       "    </tr>\n",
       "    <tr>\n",
       "      <th>4</th>\n",
       "      <td>clindamycin</td>\n",
       "      <td>Acne</td>\n",
       "      <td>what is the side effect of taking drug clindam...</td>\n",
       "      <td>hives ; difficult breathing; swelling of your ...</td>\n",
       "      <td>Topic: clindamycin - Acne; Question: Acne - wh...</td>\n",
       "      <td>151</td>\n",
       "      <td>[-0.008103083819150925, 0.0049868617206811905,...</td>\n",
       "    </tr>\n",
       "  </tbody>\n",
       "</table>\n",
       "</div>"
      ],
      "text/plain": [
       "        drug_name medical_condition  \\\n",
       "0     doxycycline              Acne   \n",
       "1  spironolactone              Acne   \n",
       "2     minocycline              Acne   \n",
       "3        Accutane              Acne   \n",
       "4     clindamycin              Acne   \n",
       "\n",
       "                                           questions  \\\n",
       "0  what is the side effect of taking drug doxycyc...   \n",
       "1  what is the side effect of taking drug spirono...   \n",
       "2  what is the side effect of taking drug minocyc...   \n",
       "3  what is the side effect of taking drug Accutan...   \n",
       "4  what is the side effect of taking drug clindam...   \n",
       "\n",
       "                                             context  \\\n",
       "0  (hives, difficult breathing, swelling in your ...   \n",
       "1  hives ; difficulty breathing; swelling of your...   \n",
       "2  skin rash, fever, swollen glands, flu-like sym...   \n",
       "3  problems with your vision or hearing; muscle o...   \n",
       "4  hives ; difficult breathing; swelling of your ...   \n",
       "\n",
       "                                                text  n_tokens  \\\n",
       "0  Topic: doxycycline - Acne; Question: Acne - wh...       339   \n",
       "1  Topic: spironolactone - Acne; Question: Acne -...       166   \n",
       "2  Topic: minocycline - Acne; Question: Acne - wh...       333   \n",
       "3  Topic: Accutane - Acne; Question: Acne - what ...       274   \n",
       "4  Topic: clindamycin - Acne; Question: Acne - wh...       151   \n",
       "\n",
       "                                          embeddings  \n",
       "0  [-0.01912190206348896, 0.009189479984343052, 0...  \n",
       "1  [-0.007099879439920187, 0.008844921365380287, ...  \n",
       "2  [-0.01001330092549324, -0.013359921053051949, ...  \n",
       "3  [-0.01733020693063736, -0.01158748846501112, 0...  \n",
       "4  [-0.008103083819150925, 0.0049868617206811905,...  "
      ]
     },
     "execution_count": 77,
     "metadata": {},
     "output_type": "execute_result"
    }
   ],
   "source": [
    "df1 = pd.read_parquet('./curie_embeddings.parquet')\n",
    "df1.head()"
   ]
  },
  {
   "cell_type": "markdown",
   "id": "0b72a193",
   "metadata": {},
   "source": [
    "# Creation of Pinecone Index for embedding Vectors list\n",
    "* Pincode DB cannot have metadata size greater than 5 KB, so we will assign a unique id for each row and use that mapping for our text data\n",
    "* Create Pinecode Index after initializing the pinecone client with API key and environment, we will use cosine similarity metric for our vector embeddings.\n",
    "* Update the Index with the vectors list.\n",
    "* Create a metadata mapping with id and text columns to see if we are able to retrieve the context from the pinecone vector DB"
   ]
  },
  {
   "cell_type": "code",
   "execution_count": 78,
   "id": "9266e39c",
   "metadata": {},
   "outputs": [
    {
     "name": "stdout",
     "output_type": "stream",
     "text": [
      "48 / 2801 records are too big\n"
     ]
    }
   ],
   "source": [
    "too_big = []\n",
    "\n",
    "for text in df['text'].tolist():\n",
    "    if getsizeof(text) > 5000:\n",
    "        too_big.append((text, getsizeof(text)))\n",
    "\n",
    "print(f\"{len(too_big)} / {len(df)} records are too big\")"
   ]
  },
  {
   "cell_type": "code",
   "execution_count": 79,
   "id": "385b0890",
   "metadata": {},
   "outputs": [
    {
     "data": {
      "text/html": [
       "<div>\n",
       "<style scoped>\n",
       "    .dataframe tbody tr th:only-of-type {\n",
       "        vertical-align: middle;\n",
       "    }\n",
       "\n",
       "    .dataframe tbody tr th {\n",
       "        vertical-align: top;\n",
       "    }\n",
       "\n",
       "    .dataframe thead th {\n",
       "        text-align: right;\n",
       "    }\n",
       "</style>\n",
       "<table border=\"1\" class=\"dataframe\">\n",
       "  <thead>\n",
       "    <tr style=\"text-align: right;\">\n",
       "      <th></th>\n",
       "      <th>drug_name</th>\n",
       "      <th>medical_condition</th>\n",
       "      <th>questions</th>\n",
       "      <th>context</th>\n",
       "      <th>text</th>\n",
       "      <th>n_tokens</th>\n",
       "      <th>embeddings</th>\n",
       "      <th>id</th>\n",
       "    </tr>\n",
       "  </thead>\n",
       "  <tbody>\n",
       "    <tr>\n",
       "      <th>0</th>\n",
       "      <td>doxycycline</td>\n",
       "      <td>Acne</td>\n",
       "      <td>what is the side effect of taking drug doxycyc...</td>\n",
       "      <td>(hives, difficult breathing, swelling in your ...</td>\n",
       "      <td>Topic: doxycycline - Acne; Question: Acne - wh...</td>\n",
       "      <td>339</td>\n",
       "      <td>[-0.01912190206348896, 0.009189479984343052, 0...</td>\n",
       "      <td>0</td>\n",
       "    </tr>\n",
       "    <tr>\n",
       "      <th>1</th>\n",
       "      <td>spironolactone</td>\n",
       "      <td>Acne</td>\n",
       "      <td>what is the side effect of taking drug spirono...</td>\n",
       "      <td>hives ; difficulty breathing; swelling of your...</td>\n",
       "      <td>Topic: spironolactone - Acne; Question: Acne -...</td>\n",
       "      <td>166</td>\n",
       "      <td>[-0.007099879439920187, 0.008844921365380287, ...</td>\n",
       "      <td>1</td>\n",
       "    </tr>\n",
       "    <tr>\n",
       "      <th>2</th>\n",
       "      <td>minocycline</td>\n",
       "      <td>Acne</td>\n",
       "      <td>what is the side effect of taking drug minocyc...</td>\n",
       "      <td>skin rash, fever, swollen glands, flu-like sym...</td>\n",
       "      <td>Topic: minocycline - Acne; Question: Acne - wh...</td>\n",
       "      <td>333</td>\n",
       "      <td>[-0.01001330092549324, -0.013359921053051949, ...</td>\n",
       "      <td>2</td>\n",
       "    </tr>\n",
       "    <tr>\n",
       "      <th>3</th>\n",
       "      <td>Accutane</td>\n",
       "      <td>Acne</td>\n",
       "      <td>what is the side effect of taking drug Accutan...</td>\n",
       "      <td>problems with your vision or hearing; muscle o...</td>\n",
       "      <td>Topic: Accutane - Acne; Question: Acne - what ...</td>\n",
       "      <td>274</td>\n",
       "      <td>[-0.01733020693063736, -0.01158748846501112, 0...</td>\n",
       "      <td>3</td>\n",
       "    </tr>\n",
       "    <tr>\n",
       "      <th>4</th>\n",
       "      <td>clindamycin</td>\n",
       "      <td>Acne</td>\n",
       "      <td>what is the side effect of taking drug clindam...</td>\n",
       "      <td>hives ; difficult breathing; swelling of your ...</td>\n",
       "      <td>Topic: clindamycin - Acne; Question: Acne - wh...</td>\n",
       "      <td>151</td>\n",
       "      <td>[-0.008103083819150925, 0.0049868617206811905,...</td>\n",
       "      <td>4</td>\n",
       "    </tr>\n",
       "  </tbody>\n",
       "</table>\n",
       "</div>"
      ],
      "text/plain": [
       "        drug_name medical_condition  \\\n",
       "0     doxycycline              Acne   \n",
       "1  spironolactone              Acne   \n",
       "2     minocycline              Acne   \n",
       "3        Accutane              Acne   \n",
       "4     clindamycin              Acne   \n",
       "\n",
       "                                           questions  \\\n",
       "0  what is the side effect of taking drug doxycyc...   \n",
       "1  what is the side effect of taking drug spirono...   \n",
       "2  what is the side effect of taking drug minocyc...   \n",
       "3  what is the side effect of taking drug Accutan...   \n",
       "4  what is the side effect of taking drug clindam...   \n",
       "\n",
       "                                             context  \\\n",
       "0  (hives, difficult breathing, swelling in your ...   \n",
       "1  hives ; difficulty breathing; swelling of your...   \n",
       "2  skin rash, fever, swollen glands, flu-like sym...   \n",
       "3  problems with your vision or hearing; muscle o...   \n",
       "4  hives ; difficult breathing; swelling of your ...   \n",
       "\n",
       "                                                text  n_tokens  \\\n",
       "0  Topic: doxycycline - Acne; Question: Acne - wh...       339   \n",
       "1  Topic: spironolactone - Acne; Question: Acne -...       166   \n",
       "2  Topic: minocycline - Acne; Question: Acne - wh...       333   \n",
       "3  Topic: Accutane - Acne; Question: Acne - what ...       274   \n",
       "4  Topic: clindamycin - Acne; Question: Acne - wh...       151   \n",
       "\n",
       "                                          embeddings id  \n",
       "0  [-0.01912190206348896, 0.009189479984343052, 0...  0  \n",
       "1  [-0.007099879439920187, 0.008844921365380287, ...  1  \n",
       "2  [-0.01001330092549324, -0.013359921053051949, ...  2  \n",
       "3  [-0.01733020693063736, -0.01158748846501112, 0...  3  \n",
       "4  [-0.008103083819150925, 0.0049868617206811905,...  4  "
      ]
     },
     "execution_count": 79,
     "metadata": {},
     "output_type": "execute_result"
    }
   ],
   "source": [
    "df['id'] = [str(i) for i in range(len(df))]\n",
    "df.head()"
   ]
  },
  {
   "cell_type": "code",
   "execution_count": 81,
   "id": "5144c4b4",
   "metadata": {},
   "outputs": [],
   "source": [
    "pinecone.init(\n",
    "    api_key='<>', \n",
    "    environment='us-west1-gcp'\n",
    ")\n",
    "\n",
    "index_name = 'chatgpt-demo'\n",
    "\n",
    "if not index_name in pinecone.list_indexes():\n",
    "    pinecone.create_index(\n",
    "        index_name, dimension=len(df['embeddings'].tolist()[0]),\n",
    "        metric='cosine'\n",
    "    )\n",
    "\n",
    "index = pinecone.Index(index_name)"
   ]
  },
  {
   "cell_type": "code",
   "execution_count": 83,
   "id": "d2a0889b",
   "metadata": {},
   "outputs": [
    {
     "data": {
      "application/vnd.jupyter.widget-view+json": {
       "model_id": "1f0c51c382b543ee999e075ec1579777",
       "version_major": 2,
       "version_minor": 0
      },
      "text/plain": [
       "  0%|          | 0/88 [00:00<?, ?it/s]"
      ]
     },
     "metadata": {},
     "output_type": "display_data"
    }
   ],
   "source": [
    "batch_size = 32\n",
    "\n",
    "for i in tqdm(range(0, len(df), batch_size)):\n",
    "    i_end = min(i+batch_size, len(df))\n",
    "    df_slice = df.iloc[i:i_end]\n",
    "    to_upsert = [\n",
    "        (\n",
    "            row['id'],\n",
    "            row['embeddings'],\n",
    "            {\n",
    "                'drug_name': row['drug_name'],\n",
    "                'medical_condition': row['medical_condition'],\n",
    "                'n_tokens': row['n_tokens']\n",
    "            }\n",
    "        ) for _, row in df_slice.iterrows()\n",
    "    ]\n",
    "    index.upsert(vectors=to_upsert)"
   ]
  },
  {
   "cell_type": "code",
   "execution_count": 84,
   "id": "b3dc7e7d",
   "metadata": {},
   "outputs": [],
   "source": [
    "mappings = {row['id']: row['text'] for _, row in df[['id', 'text']].iterrows()}"
   ]
  },
  {
   "cell_type": "code",
   "execution_count": 85,
   "id": "f386bbcc",
   "metadata": {},
   "outputs": [],
   "source": [
    "with open('./mapping.json', 'w') as fp:\n",
    "    json.dump(mappings, fp)"
   ]
  },
  {
   "cell_type": "markdown",
   "id": "973e9c38",
   "metadata": {},
   "source": [
    "# Test the Question & Answer system\n",
    "* Load the Pinecode Index\n",
    "* Test the context retrieval from the context embeddings in Pinecone\n",
    "* Build the query, encode it, retrieve the context after passing on to the OpenAI generative model \"text-davinci-002\"\n",
    "* Add the required instructions, so the model generates the output based on give instructions. "
   ]
  },
  {
   "cell_type": "code",
   "execution_count": 86,
   "id": "f3810938",
   "metadata": {},
   "outputs": [],
   "source": [
    "def load_index():\n",
    "    pinecone.init(\n",
    "        api_key='<>',  # app.pinecone.io\n",
    "        environment='us-west1-gcp'\n",
    "    )\n",
    "\n",
    "    index_name = 'chatgpt-demo'\n",
    "\n",
    "    if not index_name in pinecone.list_indexes():\n",
    "        raise KeyError(f\"Index '{index_name}' does not exist.\")\n",
    "\n",
    "    return pinecone.Index(index_name)"
   ]
  },
  {
   "cell_type": "code",
   "execution_count": 87,
   "id": "5f3c1b29",
   "metadata": {},
   "outputs": [],
   "source": [
    "index = load_index()"
   ]
  },
  {
   "cell_type": "code",
   "execution_count": 88,
   "id": "d40ff6cc",
   "metadata": {},
   "outputs": [],
   "source": [
    "def create_context(question, index, max_len=3750, size=\"curie\"):\n",
    "    \"\"\"\n",
    "    Find most relevant context for a question via Pinecone search\n",
    "    \"\"\"\n",
    "    q_embed = get_embedding(question, engine=f'text-search-{size}-query-001')\n",
    "    res = index.query(q_embed, top_k=5, include_metadata=True)\n",
    "    \n",
    "\n",
    "    cur_len = 0\n",
    "    contexts = []\n",
    "\n",
    "    for row in res['matches']:\n",
    "        text = mappings[row['id']]\n",
    "        cur_len += row['metadata']['n_tokens'] + 4\n",
    "        if cur_len < max_len:\n",
    "            contexts.append(text)\n",
    "        else:\n",
    "            cur_len -= row['metadata']['n_tokens'] + 4\n",
    "            if max_len - cur_len < 200:\n",
    "                break\n",
    "    return \"\\n\\n###\\n\\n\".join(contexts)"
   ]
  },
  {
   "cell_type": "code",
   "execution_count": 89,
   "id": "fbc1c33f",
   "metadata": {},
   "outputs": [
    {
     "data": {
      "text/plain": [
       "'Topic: doxycycline - Acne; Question: Acne - what is the side effect of taking drug doxycyclinefor the Acne medical condition.; Answer: (hives, difficult breathing, swelling in your face or throat) or a severe skin reaction (fever, sore throat, burning in your eyes, skin pain, red or purple skin rash that spreads and causes blistering and peeling). Seek medical treatment if you have a serious drug reaction that can affect many parts of your body. Symptoms may include: skin rash, fever, swollen glands, flu-like symptoms, muscle aches, severe weakness, unusual bruising, or yellowing of your skin or eyes. This reaction may occur several weeks after you began using doxycycline. Doxycycline may cause serious side effects. Call your doctor at once if you have: severe stomach pain, diarrhea that is watery or bloody; throat irritation, trouble swallowing; chest pain, irregular heart rhythm, feeling short of breath; little or no urination; low white blood cell counts - fever, chills, swollen glands, body aches, weakness, pale skin, easy bruising or bleeding; severe headaches, ringing in your ears, dizziness, nausea, vision problems, pain behind your eyes; loss of appetite, upper stomach pain (that may spread to your back), tiredness, nausea or vomiting, fast heart rate, dark urine, jaundice (yellowing of the skin or eyes). Common side effects of doxycycline may include: nausea and vomiting; upset stomach; loss of appetite; mild diarrhea; skin rash or itching; darkened skin color; vaginal itching or discharge.\\n\\n###\\n\\nTopic: Doxy 100 - Acne; Question: Acne - what is the side effect of taking drug Doxy 100for the Acne medical condition.; Answer: WARNING/CAUTION: Even though it may be rare, some people may have very bad and sometimes deadly side effects when taking a drug. Tell your doctor or get medical help right away if you have any of the following signs or symptoms that may be related to a very bad side effect: Signs of an allergic reaction, like rash; hives ; itching; red, swollen, blistered, or peeling skin with or without fever; wheezing; tightness in the chest or throat; trouble breathing, swallowing, or talking; unusual hoarseness; or swelling of the mouth, face, lips, tongue, or throat. Signs of liver problems like dark urine, feeling tired, not hungry, upset stomach or stomach pain, light-colored stools, throwing up, or yellow skin or eyes. Signs of a pancreas problem ( pancreatitis ) like very bad stomach pain, very bad back pain , or very bad upset stomach or throwing up. Chest pain or pressure or a fast heartbeat . Not able to pass urine or change in how much urine is passed. Fever, chills, or sore throat ; any unexplained bruising or bleeding; or feeling very tired or weak. Throat irritation. Trouble swallowing. Muscle or joint pain. Fast breathing. Flushing. Very bad dizziness or passing out. Change in skin color. Swollen gland. Vaginal itching or discharge. Diarrhea is common with antibiotics . Rarely, a severe form called C diff–associated diarrhea ( CDAD ) may happen. Sometimes, this has led to a deadly bowel problem ( colitis ). CDAD may happen during or a few months after taking antibiotics. Call your doctor right away if you have stomach pain, cramps, or very loose, watery, or bloody stools. Check with your doctor before treating diarrhea. Raised pressure in the brain has happened with Doxy 100 (doxycycline injection). Most of the time, this will go back to normal after Doxy 100 (doxycycline injection) is stopped. Sometimes, loss of eyesight may happen and may not go away even after Doxy 100 (doxycycline injection) is stopped. Call your doctor right away if you have a headache or eyesight problems like blurred eyesight, seeing double, or loss of eyesight. Doxy 100 side effects\\n\\n###\\n\\nTopic: Adoxa - Acne; Question: Acne - what is the side effect of taking drug Adoxafor the Acne medical condition.; Answer: WARNING/CAUTION: Even though it may be rare, some people may have very bad and sometimes deadly side effects when taking a drug. Tell your doctor or get medical help right away if you have any of the following signs or symptoms that may be related to a very bad side effect: Signs of an allergic reaction, like rash; hives ; itching; red, swollen, blistered, or peeling skin with or without fever; wheezing; tightness in the chest or throat; trouble breathing, swallowing, or talking; unusual hoarseness; or swelling of the mouth, face, lips, tongue, or throat. Signs of liver problems like dark urine, feeling tired, not hungry, upset stomach or stomach pain, light-colored stools, throwing up, or yellow skin or eyes. Signs of a pancreas problem ( pancreatitis ) like very bad stomach pain, very bad back pain , or very bad upset stomach or throwing up. Chest pain or pressure or a fast heartbeat . Not able to pass urine or change in how much urine is passed. Fever, chills, or sore throat ; any unexplained bruising or bleeding; or feeling very tired or weak. Throat irritation. Trouble swallowing. Muscle or joint pain. Fast breathing. Flushing. Very bad dizziness or passing out. Change in skin color. Swollen gland. Vaginal itching or discharge. Diarrhea is common with antibiotics . Rarely, a severe form called C diff–associated diarrhea ( CDAD ) may happen. Sometimes, this has led to a deadly bowel problem ( colitis ). CDAD may happen during or a few months after taking antibiotics. Call your doctor right away if you have stomach pain, cramps, or very loose, watery, or bloody stools. Check with your doctor before treating diarrhea. Raised pressure in the brain has happened with Adoxa (doxycycline tablets and capsules). Most of the time, this will go back to normal after Adoxa (doxycycline tablets and capsules) is stopped. Sometimes, loss of eyesight may happen and may not go away even after Adoxa (doxycycline tablets and capsules) is stopped. Call your doctor right away if you have a headache or eyesight problems like blurred eyesight, seeing double, or loss of eyesight. Adoxa side effects\\n\\n###\\n\\nTopic: Acticlate - Acne; Question: Acne - what is the side effect of taking drug Acticlatefor the Acne medical condition.; Answer: WARNING/CAUTION: Even though it may be rare, some people may have very bad and sometimes deadly side effects when taking a drug. Tell your doctor or get medical help right away if you have any of the following signs or symptoms that may be related to a very bad side effect: Signs of an allergic reaction, like rash; hives ; itching; red, swollen, blistered, or peeling skin with or without fever; wheezing; tightness in the chest or throat; trouble breathing, swallowing, or talking; unusual hoarseness; or swelling of the mouth, face, lips, tongue, or throat. Signs of liver problems like dark urine, feeling tired, not hungry, upset stomach or stomach pain, light-colored stools, throwing up, or yellow skin or eyes. Signs of a pancreas problem ( pancreatitis ) like very bad stomach pain, very bad back pain , or very bad upset stomach or throwing up. Chest pain or pressure or a fast heartbeat . Not able to pass urine or change in how much urine is passed. Fever, chills, or sore throat ; any unexplained bruising or bleeding; or feeling very tired or weak. Throat irritation. Trouble swallowing. Muscle or joint pain. Fast breathing. Flushing. Very bad dizziness or passing out. Change in skin color. Swollen gland. Vaginal itching or discharge. Diarrhea is common with antibiotics . Rarely, a severe form called C diff–associated diarrhea ( CDAD ) may happen. Sometimes, this has led to a deadly bowel problem ( colitis ). CDAD may happen during or a few months after taking antibiotics. Call your doctor right away if you have stomach pain, cramps, or very loose, watery, or bloody stools. Check with your doctor before treating diarrhea. Raised pressure in the brain has happened with Acticlate (doxycycline tablets and capsules). Most of the time, this will go back to normal after Acticlate (doxycycline tablets and capsules) is stopped. Sometimes, loss of eyesight may happen and may not go away even after Acticlate (doxycycline tablets and capsules) is stopped. Call your doctor right away if you have a headache or eyesight problems like blurred eyesight, seeing double, or loss of eyesight. Acticlate side effects\\n\\n###\\n\\nTopic: Acne Treatment - Acne; Question: Acne - what is the side effect of taking drug Acne Treatmentfor the Acne medical condition.; Answer: WARNING/CAUTION: Even though it may be rare, some people may have very bad and sometimes deadly side effects when taking a drug. Tell your doctor or get medical help right away if you have any of the following signs or symptoms that may be related to a very bad side effect: Signs of an allergic reaction, like rash; hives ; itching; red, swollen, blistered, or peeling skin with or without fever; wheezing; tightness in the chest or throat; trouble breathing, swallowing, or talking; unusual hoarseness; or swelling of the mouth, face, lips, tongue, or throat. Acne Treatment side effects'"
      ]
     },
     "execution_count": 89,
     "metadata": {},
     "output_type": "execute_result"
    }
   ],
   "source": [
    "create_context(\"what is the side effect of taking drug doxycycline for Acne medical condition\", index)"
   ]
  },
  {
   "cell_type": "code",
   "execution_count": 98,
   "id": "adc92741",
   "metadata": {},
   "outputs": [],
   "source": [
    "def answer_question(\n",
    "    index=index,\n",
    "    fine_tuned_qa_model=\"text-davinci-002\",\n",
    "    question=\"Do i get any side effect if I take ibuprofen?\",\n",
    "    instruction=\"Answer the question based on the context below, and if the question can't be answered based on the context, say \\\"I don't know\\\"\\n\\nContext:\\n{0}\\n\\n---\\n\\nQuestion: {1}\\nAnswer:\",\n",
    "    max_len=3550,\n",
    "    size=\"curie\",\n",
    "    debug=False,\n",
    "    max_tokens=400,\n",
    "    stop_sequence=None,\n",
    "):\n",
    "    \"\"\"\n",
    "    Answer a question based on the most similar context from the dataframe texts\n",
    "    \"\"\"\n",
    "    context = create_context(\n",
    "        question,\n",
    "        index,\n",
    "        max_len=max_len,\n",
    "        size=size,\n",
    "    )\n",
    "    if debug:\n",
    "        print(\"Context:\\n\" + context)\n",
    "        print(\"\\n\\n\")\n",
    "    try:\n",
    "        # fine-tuned models requires model parameter, whereas other models require engine parameter\n",
    "        model_param = (\n",
    "            {\"model\": fine_tuned_qa_model}\n",
    "            if \":\" in fine_tuned_qa_model\n",
    "            and fine_tuned_qa_model.split(\":\")[1].startswith(\"ft\")\n",
    "            else {\"engine\": fine_tuned_qa_model}\n",
    "        )\n",
    "        #print(instruction.format(context, question))\n",
    "        response = openai.Completion.create(\n",
    "            prompt=instruction.format(context, question),\n",
    "            temperature=0,\n",
    "            max_tokens=max_tokens,\n",
    "            top_p=1,\n",
    "            frequency_penalty=0,\n",
    "            presence_penalty=0,\n",
    "            stop=stop_sequence,\n",
    "            **model_param,\n",
    "        )\n",
    "        return response[\"choices\"][0][\"text\"].strip()\n",
    "    except Exception as e:\n",
    "        print(e)\n",
    "        return \"\""
   ]
  },
  {
   "cell_type": "code",
   "execution_count": 92,
   "id": "3adf3d84",
   "metadata": {},
   "outputs": [],
   "source": [
    "instructions = {\n",
    "    \"conservative Q&A\": \"Answer the question based on the context below, and if the question can't be answered based on the context, say \\\"I don't know\\\"\\n\\nContext:\\n{0}\\n\\n---\\n\\nQuestion: {1}\\nAnswer:\",\n",
    "    \"paragraph about a question\":\"Write a paragraph, addressing the question, and use the text below to obtain relevant information\\\"\\n\\nContext:\\n{0}\\n\\n---\\n\\nQuestion: {1}\\nParagraph long Answer:\",\n",
    "    \"bullet point\": \"Write a bullet point list of possible answers, addressing the question, and use the text below to obtain relevant information\\\"\\n\\nContext:\\n{0}\\n\\n---\\n\\nQuestion: {1}\\nBullet point Answer:\",\n",
    "    \"summarize problems given a topic\": \"Write a summary of the problems addressed by the questions below\\\"\\n\\n{0}\\n\\n---\\n\\n\",\n",
    "    \"just instruction\": \"{1} given the common questions and answers below \\n\\n{0}\\n\\n---\\n\\n\",\n",
    "    \"summarize\": \"Write an elaborate, paragraph long summary about \\\"{1}\\\" given the questions and answers from a public forum on this topic\\n\\n{0}\\n\\n---\\n\\nSummary:\",\n",
    "}"
   ]
  },
  {
   "cell_type": "code",
   "execution_count": 93,
   "id": "9a74146b",
   "metadata": {},
   "outputs": [
    {
     "name": "stdout",
     "output_type": "stream",
     "text": [
      "The questions above address the potential side effects of taking the drug Paracetamol for pain relief. Paracetamol is a common pain reliever, but it can have serious side effects, including liver damage, kidney damage, and gastrointestinal bleeding. If you experience any of the rare side effects listed above, you should stop taking the drug and seek medical help immediately.\n"
     ]
    }
   ],
   "source": [
    "print(answer_question(index, question=\"are there side effects for paracetamol drug\", \n",
    "                            instruction = instructions[\"summarize problems given a topic\"], debug=False))"
   ]
  },
  {
   "cell_type": "code",
   "execution_count": 95,
   "id": "e3107189",
   "metadata": {},
   "outputs": [
    {
     "name": "stdout",
     "output_type": "stream",
     "text": [
      "Serious side effects of paracetamol include: Allergic reactions, which may be severe and include: Skin rashes, itching or hives Swelling of the throat, tongue or face Shortness of breath or wheezing Skin rash or peeling, or mouth ulcers Breathing problems. This is more likely if you have experienced them before when taking other painkillers such as ibuprofen and aspirin Unexplained bruising or bleeding or becoming unusually tired. Getting more infections than usual. Liver problems. Nausea, sudden weight loss, loss of appetite and yellowing of the eyes and skin can occur If you get any of the rare side effects listed above, stop taking the medicine and contact your doctor immediately. Common side effect of paracetamol suppositories include: Redness or soreness in or around the rectum Everyday, long-term use (several months or more) of paracetamol can cause liver or kidney damage. People taking this medication in the usual way for shorter periods of time have not had these problems. These are not all of the possible side effects of this medication. Call your doctor for medical advice about side effects. You may report side effects to FDA at 1-800-FDA-1088. Paracetamol side effects\n"
     ]
    }
   ],
   "source": [
    "print(answer_question(index, question=\"are there side effects for paracetamol drug\", \n",
    "                            instruction = instructions[\"conservative Q&A\"], debug=False))"
   ]
  },
  {
   "cell_type": "code",
   "execution_count": 99,
   "id": "24a0defe",
   "metadata": {},
   "outputs": [
    {
     "name": "stdout",
     "output_type": "stream",
     "text": [
      "Ibuprofen may cause serious side effects. Stop using ibuprofen and call your doctor at once if you have: changes in your vision; shortness of breath (even with mild exertion); swelling or rapid weight gain; a skin rash, no matter how mild; signs of stomach bleeding - bloody or tarry stools, coughing up blood or vomit that looks like coffee grounds; liver problems - nausea, upper stomach pain, itching, tired feeling, flu-like symptoms, loss of appetite, dark urine, clay-colored stools, jaundice (yellowing of the skin or eyes); low red blood cells (anemia) - pale skin, feeling light-headed or short of breath, rapid heart rate, trouble concentrating; or kidney problems - little or no urinating, painful or difficult urination, swelling in your feet or ankles, feeling tired or short of breath. Common ibuprofen side effects may include: nausea, vomiting, gas; bleeding; or dizziness, headache.\n"
     ]
    }
   ],
   "source": [
    "print(answer_question())"
   ]
  },
  {
   "cell_type": "code",
   "execution_count": 100,
   "id": "ac03c5e1",
   "metadata": {},
   "outputs": [
    {
     "name": "stdout",
     "output_type": "stream",
     "text": [
      "Cefixime is a drug used to treat pneumonia, and its side effects can include severe stomach pain, diarrhea, and seizures. Cefadroxil is a drug used to treat UTIs, and its side effects can include hives, difficulty breathing, and swelling of the face, lips, or tongue. Cefiderocol is a drug used to treat UTIs, and its side effects can include severe stomach pain, diarrhea, and low potassium levels.\n"
     ]
    }
   ],
   "source": [
    "print(answer_question(index, question=\"I am planning to take cefixime drug, do i get any side effect\", \n",
    "                            instruction = instructions[\"summarize\"], debug=False))"
   ]
  },
  {
   "cell_type": "code",
   "execution_count": 102,
   "id": "f663076f",
   "metadata": {},
   "outputs": [
    {
     "name": "stdout",
     "output_type": "stream",
     "text": [
      "-Hives\n",
      "-Difficult breathing \n",
      "-Swelling of face, lips, tongue, or throat \n",
      "-Tremors or shaking in arms or legs \n",
      "-Uncontrolled muscle movements in face \n",
      "-Confusion \n",
      "-Depression \n",
      "-Thoughts of suicide or hurting oneself \n",
      "-Slow or jerky muscle movements \n",
      "-Problems with balance or walking \n",
      "-Mask-like appearance in face \n",
      "-Seizure \n",
      "-Anxiety\n",
      "-Agitation \n",
      "-Jittery feeling \n",
      "-Trouble staying still \n",
      "-Trouble sleeping \n",
      "-Swelling \n",
      "-Feeling short of breath \n",
      "-Rapid weight gain \n",
      "-Severe nervous system reaction \n",
      "-Very stiff (rigid) muscles \n",
      "-High fever \n",
      "-Sweating \n",
      "-Fast or uneven heartbeats \n",
      "-Nausea \n",
      "-Vomiting \n",
      "-Headache \n",
      "-Lack of energy \n",
      "-Sleep problems (insomnia)\n"
     ]
    }
   ],
   "source": [
    "print(answer_question(index, question=\"I am taking metoclopramide drug, what are the side effects\", \n",
    "                            instruction = instructions[\"bullet point\"], debug=False))"
   ]
  }
 ],
 "metadata": {
  "kernelspec": {
   "display_name": "Python 3",
   "language": "python",
   "name": "python3"
  },
  "language_info": {
   "codemirror_mode": {
    "name": "ipython",
    "version": 3
   },
   "file_extension": ".py",
   "mimetype": "text/x-python",
   "name": "python",
   "nbconvert_exporter": "python",
   "pygments_lexer": "ipython3",
   "version": "3.9.13"
  }
 },
 "nbformat": 4,
 "nbformat_minor": 5
}
